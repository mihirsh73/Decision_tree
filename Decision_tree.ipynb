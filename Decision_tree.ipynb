{
  "nbformat": 4,
  "nbformat_minor": 0,
  "metadata": {
    "colab": {
      "name": "Decision_tree",
      "provenance": [],
      "collapsed_sections": [],
      "toc_visible": true,
      "authorship_tag": "ABX9TyNPBa18dSFcaPvkFymBNJIZ",
      "include_colab_link": true
    },
    "kernelspec": {
      "name": "python3",
      "display_name": "Python 3"
    }
  },
  "cells": [
    {
      "cell_type": "markdown",
      "metadata": {
        "id": "view-in-github",
        "colab_type": "text"
      },
      "source": [
        "<a href=\"https://colab.research.google.com/github/mihirsh73/Decision_tree/blob/master/Decision_tree.ipynb\" target=\"_parent\"><img src=\"https://colab.research.google.com/assets/colab-badge.svg\" alt=\"Open In Colab\"/></a>"
      ]
    },
    {
      "cell_type": "code",
      "metadata": {
        "id": "cNBC7ZTRpHJO",
        "colab_type": "code",
        "colab": {}
      },
      "source": [
        "import numpy as np\n",
        "import matplotlib.pyplot as plt\n",
        "import pandas as pd\n",
        "from sklearn.model_selection import train_test_split\n",
        "from sklearn.preprocessing import LabelEncoder"
      ],
      "execution_count": 0,
      "outputs": []
    },
    {
      "cell_type": "code",
      "metadata": {
        "id": "RxKQYAZVpil3",
        "colab_type": "code",
        "colab": {}
      },
      "source": [
        "df = pd.read_csv(\"elec.csv.txt\")"
      ],
      "execution_count": 0,
      "outputs": []
    },
    {
      "cell_type": "code",
      "metadata": {
        "id": "IhAwXVj3p1Cy",
        "colab_type": "code",
        "outputId": "2f00c545-cce7-4bec-e0de-7db4596b3d7c",
        "colab": {
          "base_uri": "https://localhost:8080/",
          "height": 202
        }
      },
      "source": [
        "df.head()"
      ],
      "execution_count": 0,
      "outputs": [
        {
          "output_type": "execute_result",
          "data": {
            "text/html": [
              "<div>\n",
              "<style scoped>\n",
              "    .dataframe tbody tr th:only-of-type {\n",
              "        vertical-align: middle;\n",
              "    }\n",
              "\n",
              "    .dataframe tbody tr th {\n",
              "        vertical-align: top;\n",
              "    }\n",
              "\n",
              "    .dataframe thead th {\n",
              "        text-align: right;\n",
              "    }\n",
              "</style>\n",
              "<table border=\"1\" class=\"dataframe\">\n",
              "  <thead>\n",
              "    <tr style=\"text-align: right;\">\n",
              "      <th></th>\n",
              "      <th>0</th>\n",
              "      <th>0.056443</th>\n",
              "      <th>0.439155</th>\n",
              "      <th>0.003467</th>\n",
              "      <th>0.422915</th>\n",
              "      <th>0.414912</th>\n",
              "      <th>1</th>\n",
              "    </tr>\n",
              "  </thead>\n",
              "  <tbody>\n",
              "    <tr>\n",
              "      <th>0</th>\n",
              "      <td>0.021277</td>\n",
              "      <td>0.051699</td>\n",
              "      <td>0.415055</td>\n",
              "      <td>0.003467</td>\n",
              "      <td>0.422915</td>\n",
              "      <td>0.414912</td>\n",
              "      <td>1</td>\n",
              "    </tr>\n",
              "    <tr>\n",
              "      <th>1</th>\n",
              "      <td>0.042553</td>\n",
              "      <td>0.051489</td>\n",
              "      <td>0.385004</td>\n",
              "      <td>0.003467</td>\n",
              "      <td>0.422915</td>\n",
              "      <td>0.414912</td>\n",
              "      <td>1</td>\n",
              "    </tr>\n",
              "    <tr>\n",
              "      <th>2</th>\n",
              "      <td>0.063830</td>\n",
              "      <td>0.045485</td>\n",
              "      <td>0.314639</td>\n",
              "      <td>0.003467</td>\n",
              "      <td>0.422915</td>\n",
              "      <td>0.414912</td>\n",
              "      <td>1</td>\n",
              "    </tr>\n",
              "    <tr>\n",
              "      <th>3</th>\n",
              "      <td>0.085106</td>\n",
              "      <td>0.042482</td>\n",
              "      <td>0.251116</td>\n",
              "      <td>0.003467</td>\n",
              "      <td>0.422915</td>\n",
              "      <td>0.414912</td>\n",
              "      <td>0</td>\n",
              "    </tr>\n",
              "    <tr>\n",
              "      <th>4</th>\n",
              "      <td>0.106383</td>\n",
              "      <td>0.041161</td>\n",
              "      <td>0.207528</td>\n",
              "      <td>0.003467</td>\n",
              "      <td>0.422915</td>\n",
              "      <td>0.414912</td>\n",
              "      <td>0</td>\n",
              "    </tr>\n",
              "  </tbody>\n",
              "</table>\n",
              "</div>"
            ],
            "text/plain": [
              "          0  0.056443  0.439155  0.003467  0.422915  0.414912  1\n",
              "0  0.021277  0.051699  0.415055  0.003467  0.422915  0.414912  1\n",
              "1  0.042553  0.051489  0.385004  0.003467  0.422915  0.414912  1\n",
              "2  0.063830  0.045485  0.314639  0.003467  0.422915  0.414912  1\n",
              "3  0.085106  0.042482  0.251116  0.003467  0.422915  0.414912  0\n",
              "4  0.106383  0.041161  0.207528  0.003467  0.422915  0.414912  0"
            ]
          },
          "metadata": {
            "tags": []
          },
          "execution_count": 3
        }
      ]
    },
    {
      "cell_type": "code",
      "metadata": {
        "id": "FBhB_d5Cp357",
        "colab_type": "code",
        "outputId": "12cc44e7-7350-402b-ca94-ccf63c40bed8",
        "colab": {
          "base_uri": "https://localhost:8080/",
          "height": 35
        }
      },
      "source": [
        "df.columns"
      ],
      "execution_count": 0,
      "outputs": [
        {
          "output_type": "execute_result",
          "data": {
            "text/plain": [
              "Index(['0', '0.056443', '0.439155', '0.003467', '0.422915', '0.414912', '1'], dtype='object')"
            ]
          },
          "metadata": {
            "tags": []
          },
          "execution_count": 4
        }
      ]
    },
    {
      "cell_type": "code",
      "metadata": {
        "id": "KRWp09XQqK0E",
        "colab_type": "code",
        "colab": {}
      },
      "source": [
        "selected_cols = ['0', '0.056443', '0.439155', '0.003467', '0.422915', '0.414912', '1']"
      ],
      "execution_count": 0,
      "outputs": []
    },
    {
      "cell_type": "code",
      "metadata": {
        "id": "w_ABaxpiqPrH",
        "colab_type": "code",
        "colab": {}
      },
      "source": [
        "data = df.loc[:, selected_cols]"
      ],
      "execution_count": 0,
      "outputs": []
    },
    {
      "cell_type": "code",
      "metadata": {
        "id": "EYwSaRtfqc1I",
        "colab_type": "code",
        "outputId": "fa7685bb-33f1-4362-e0f5-771412e16207",
        "colab": {
          "base_uri": "https://localhost:8080/",
          "height": 202
        }
      },
      "source": [
        "data.head()"
      ],
      "execution_count": 0,
      "outputs": [
        {
          "output_type": "execute_result",
          "data": {
            "text/html": [
              "<div>\n",
              "<style scoped>\n",
              "    .dataframe tbody tr th:only-of-type {\n",
              "        vertical-align: middle;\n",
              "    }\n",
              "\n",
              "    .dataframe tbody tr th {\n",
              "        vertical-align: top;\n",
              "    }\n",
              "\n",
              "    .dataframe thead th {\n",
              "        text-align: right;\n",
              "    }\n",
              "</style>\n",
              "<table border=\"1\" class=\"dataframe\">\n",
              "  <thead>\n",
              "    <tr style=\"text-align: right;\">\n",
              "      <th></th>\n",
              "      <th>0</th>\n",
              "      <th>0.056443</th>\n",
              "      <th>0.439155</th>\n",
              "      <th>0.003467</th>\n",
              "      <th>0.422915</th>\n",
              "      <th>0.414912</th>\n",
              "      <th>1</th>\n",
              "    </tr>\n",
              "  </thead>\n",
              "  <tbody>\n",
              "    <tr>\n",
              "      <th>0</th>\n",
              "      <td>0.021277</td>\n",
              "      <td>0.051699</td>\n",
              "      <td>0.415055</td>\n",
              "      <td>0.003467</td>\n",
              "      <td>0.422915</td>\n",
              "      <td>0.414912</td>\n",
              "      <td>1</td>\n",
              "    </tr>\n",
              "    <tr>\n",
              "      <th>1</th>\n",
              "      <td>0.042553</td>\n",
              "      <td>0.051489</td>\n",
              "      <td>0.385004</td>\n",
              "      <td>0.003467</td>\n",
              "      <td>0.422915</td>\n",
              "      <td>0.414912</td>\n",
              "      <td>1</td>\n",
              "    </tr>\n",
              "    <tr>\n",
              "      <th>2</th>\n",
              "      <td>0.063830</td>\n",
              "      <td>0.045485</td>\n",
              "      <td>0.314639</td>\n",
              "      <td>0.003467</td>\n",
              "      <td>0.422915</td>\n",
              "      <td>0.414912</td>\n",
              "      <td>1</td>\n",
              "    </tr>\n",
              "    <tr>\n",
              "      <th>3</th>\n",
              "      <td>0.085106</td>\n",
              "      <td>0.042482</td>\n",
              "      <td>0.251116</td>\n",
              "      <td>0.003467</td>\n",
              "      <td>0.422915</td>\n",
              "      <td>0.414912</td>\n",
              "      <td>0</td>\n",
              "    </tr>\n",
              "    <tr>\n",
              "      <th>4</th>\n",
              "      <td>0.106383</td>\n",
              "      <td>0.041161</td>\n",
              "      <td>0.207528</td>\n",
              "      <td>0.003467</td>\n",
              "      <td>0.422915</td>\n",
              "      <td>0.414912</td>\n",
              "      <td>0</td>\n",
              "    </tr>\n",
              "  </tbody>\n",
              "</table>\n",
              "</div>"
            ],
            "text/plain": [
              "          0  0.056443  0.439155  0.003467  0.422915  0.414912  1\n",
              "0  0.021277  0.051699  0.415055  0.003467  0.422915  0.414912  1\n",
              "1  0.042553  0.051489  0.385004  0.003467  0.422915  0.414912  1\n",
              "2  0.063830  0.045485  0.314639  0.003467  0.422915  0.414912  1\n",
              "3  0.085106  0.042482  0.251116  0.003467  0.422915  0.414912  0\n",
              "4  0.106383  0.041161  0.207528  0.003467  0.422915  0.414912  0"
            ]
          },
          "metadata": {
            "tags": []
          },
          "execution_count": 12
        }
      ]
    },
    {
      "cell_type": "code",
      "metadata": {
        "id": "aFgLsX6JqgGH",
        "colab_type": "code",
        "outputId": "1ccc8de9-a9da-47dd-aeee-1a82a7038be7",
        "colab": {
          "base_uri": "https://localhost:8080/",
          "height": 225
        }
      },
      "source": [
        "data.info()"
      ],
      "execution_count": 0,
      "outputs": [
        {
          "output_type": "stream",
          "text": [
            "<class 'pandas.core.frame.DataFrame'>\n",
            "RangeIndex: 45311 entries, 0 to 45310\n",
            "Data columns (total 7 columns):\n",
            "0           45311 non-null float64\n",
            "0.056443    45311 non-null float64\n",
            "0.439155    45311 non-null float64\n",
            "0.003467    45311 non-null float64\n",
            "0.422915    45311 non-null float64\n",
            "0.414912    45311 non-null float64\n",
            "1           45311 non-null int64\n",
            "dtypes: float64(6), int64(1)\n",
            "memory usage: 2.4 MB\n"
          ],
          "name": "stdout"
        }
      ]
    },
    {
      "cell_type": "code",
      "metadata": {
        "id": "MuO8_lzBqmeP",
        "colab_type": "code",
        "colab": {}
      },
      "source": [
        "X = data.loc[:, ['0', '0.056443', '0.439155', '0.003467', '0.422915', '0.414912']]\n",
        "y = data['1']"
      ],
      "execution_count": 0,
      "outputs": []
    },
    {
      "cell_type": "code",
      "metadata": {
        "id": "u9BECA6JrR-L",
        "colab_type": "code",
        "colab": {}
      },
      "source": [
        "def entropy(column):\n",
        "    vals, counts = np.unique(column, return_counts=True)\n",
        "    total = len(column)\n",
        "    \n",
        "    acc = 0\n",
        "    for count in counts:\n",
        "        acc += (count/total)*np.log2(count/total)\n",
        "\n",
        "    return -acc"
      ],
      "execution_count": 0,
      "outputs": []
    },
    {
      "cell_type": "code",
      "metadata": {
        "id": "6AF1hQMhrWr2",
        "colab_type": "code",
        "outputId": "25092c8d-8c18-43ef-e910-5201ddc1e8fd",
        "colab": {
          "base_uri": "https://localhost:8080/",
          "height": 35
        }
      },
      "source": [
        "entropy(y)"
      ],
      "execution_count": 0,
      "outputs": [
        {
          "output_type": "execute_result",
          "data": {
            "text/plain": [
              "0.9835038175322905"
            ]
          },
          "metadata": {
            "tags": []
          },
          "execution_count": 17
        }
      ]
    },
    {
      "cell_type": "code",
      "metadata": {
        "id": "QcWVhYHTrajh",
        "colab_type": "code",
        "colab": {}
      },
      "source": [
        "def info_gain(X, y, label):\n",
        "    \n",
        "    pivot = np.mean(X[label])\n",
        "    \n",
        "    y_left = y[X[label] < pivot]\n",
        "    y_right = y[X[label] >= pivot]\n",
        "    \n",
        "    if (len(y_left) == 0) or (len(y_right) == 0):\n",
        "        return -1000\n",
        "    \n",
        "    left = (len(y_left)/len(y))*entropy(y_left)\n",
        "    right = (len(y_right)/len(y))*entropy(y_right)\n",
        "    \n",
        "    return entropy(y) - left - right"
      ],
      "execution_count": 0,
      "outputs": []
    },
    {
      "cell_type": "code",
      "metadata": {
        "id": "9oGhteh8retR",
        "colab_type": "code",
        "outputId": "e018b46f-6489-45fd-eecc-7fe7d8790ad1",
        "colab": {
          "base_uri": "https://localhost:8080/",
          "height": 121
        }
      },
      "source": [
        "for label in X.columns:\n",
        "    print(label, info_gain(X, y, label))"
      ],
      "execution_count": 0,
      "outputs": [
        {
          "output_type": "stream",
          "text": [
            "0 0.008215294695439523\n",
            "0.056443 0.15776620316384515\n",
            "0.439155 0.049116588813863826\n",
            "0.003467 0.06394496391917251\n",
            "0.422915 0.017679471065185193\n",
            "0.414912 0.008035286353810456\n"
          ],
          "name": "stdout"
        }
      ]
    },
    {
      "cell_type": "code",
      "metadata": {
        "id": "xu9lDsrorhrP",
        "colab_type": "code",
        "colab": {}
      },
      "source": [
        "class Node:\n",
        "    def __init__(self, label=None, value=None, result=None):\n",
        "        self.label = label\n",
        "        self.value = value\n",
        "        self.result = result"
      ],
      "execution_count": 0,
      "outputs": []
    },
    {
      "cell_type": "code",
      "metadata": {
        "id": "6_dQv2larn4i",
        "colab_type": "code",
        "colab": {}
      },
      "source": [
        "class DecisionTree:\n",
        "    \n",
        "    def __init__(self, max_depth=10):\n",
        "        self.max_depth = max_depth\n",
        "        \n",
        "    def fit(self, X, y):\n",
        "        self.root = self.generate(X, y, self.max_depth)\n",
        "        \n",
        "    def generate(self, X, y, depth):\n",
        "        if depth == 1:\n",
        "            return Node(result=np.mean(y))\n",
        "        \n",
        "        gains = []\n",
        "        for label in X.columns:\n",
        "            gain = info_gain(X, y, label)\n",
        "            gains.append((gain, label))\n",
        "  \n",
        "        selected_label = max(gains)[1]\n",
        "    \n",
        "        pivot = np.mean(X[selected_label])\n",
        "        left = (X[selected_label] < pivot)\n",
        "        right = (X[selected_label] >= pivot)\n",
        "        X_left, y_left = X[left], y[left]\n",
        "        X_right, y_right = X[right], y[right]\n",
        "\n",
        "        node = Node(selected_label, pivot)\n",
        "        node.left = self.generate(X_left, y_left, depth-1)\n",
        "        node.right = self.generate(X_right, y_right, depth-1)\n",
        "        \n",
        "        return node\n",
        "    \n",
        "    def display(self, node, indent=0):\n",
        "        if node.label == None:\n",
        "            if node.result < .5:\n",
        "                print(\"\\t\"*indent, \"UP :(\")\n",
        "            else:\n",
        "                print(\"\\t\"*indent, \"DOWN :)))))\")\n",
        "            return\n",
        "        \n",
        "        print(indent*\"\\t\", node.label, node.value)\n",
        "        self.display(node.left, indent+1)\n",
        "        self.display(node.right, indent+1)\n",
        "        \n",
        "        \n",
        "    def predict_point(self, row, node):\n",
        "        if node.label == None:\n",
        "            return node.result\n",
        "        \n",
        "        if row[node.label] < node.value:\n",
        "            return self.predict_point(row, node.left)\n",
        "        else:\n",
        "            return self.predict_point(row, node.right)\n",
        "        \n",
        "    def predict(self, X):\n",
        "        y = []\n",
        "        for index, row in X.iterrows():\n",
        "            res = int(self.predict_point(row, self.root) > .5)\n",
        "            y.append(res)\n",
        "        \n",
        "        return np.array(y)\n",
        "    \n",
        "    def score(self, X, y):\n",
        "        yp = self.predict(X)\n",
        "        \n",
        "        return np.sum(y.values == yp) / len(y)"
      ],
      "execution_count": 0,
      "outputs": []
    },
    {
      "cell_type": "code",
      "metadata": {
        "id": "BgQ2EBkBrym-",
        "colab_type": "code",
        "colab": {}
      },
      "source": [
        "X_train, X_test, y_train, y_test = train_test_split(\n",
        "...     X, y, test_size=0.33, random_state=42)"
      ],
      "execution_count": 0,
      "outputs": []
    },
    {
      "cell_type": "code",
      "metadata": {
        "id": "X_g8xbbqr2-p",
        "colab_type": "code",
        "colab": {}
      },
      "source": [
        "model = DecisionTree()\n",
        "model.fit(X_train, y_train)"
      ],
      "execution_count": 0,
      "outputs": []
    },
    {
      "cell_type": "code",
      "metadata": {
        "id": "RbDKDH50r5gd",
        "colab_type": "code",
        "outputId": "5c9094d9-efd1-4598-e533-bc09c0a589ad",
        "colab": {
          "base_uri": "https://localhost:8080/",
          "height": 35
        }
      },
      "source": [
        "model.score(X_test, y_test)"
      ],
      "execution_count": 0,
      "outputs": [
        {
          "output_type": "execute_result",
          "data": {
            "text/plain": [
              "0.7815822911790277"
            ]
          },
          "metadata": {
            "tags": []
          },
          "execution_count": 34
        }
      ]
    },
    {
      "cell_type": "code",
      "metadata": {
        "id": "JAj5grMZr_SF",
        "colab_type": "code",
        "outputId": "d858ddd1-2967-4213-9b53-ed9e64efd7e5",
        "colab": {
          "base_uri": "https://localhost:8080/",
          "height": 35
        }
      },
      "source": [
        "model.score(X_train, y_train)"
      ],
      "execution_count": 0,
      "outputs": [
        {
          "output_type": "execute_result",
          "data": {
            "text/plain": [
              "0.7914553000856447"
            ]
          },
          "metadata": {
            "tags": []
          },
          "execution_count": 35
        }
      ]
    },
    {
      "cell_type": "code",
      "metadata": {
        "id": "7tKvVIo2sCys",
        "colab_type": "code",
        "colab": {}
      },
      "source": [
        ""
      ],
      "execution_count": 0,
      "outputs": []
    }
  ]
}